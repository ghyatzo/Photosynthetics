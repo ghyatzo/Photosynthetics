{
 "cells": [
  {
   "cell_type": "code",
   "execution_count": 17,
   "metadata": {},
   "outputs": [],
   "source": [
    "import numpy as np;\n",
    "import matplotlib.pyplot as plt;\n",
    "import sympy;\n",
    "import scipy;\n",
    "from sympy.geometry import Point, Ray, Circle, intersection;"
   ]
  },
  {
   "cell_type": "markdown",
   "metadata": {},
   "source": [
    "# Normal distribution"
   ]
  },
  {
   "cell_type": "code",
   "execution_count": 18,
   "metadata": {},
   "outputs": [
    {
     "ename": "AttributeError",
     "evalue": "module 'scipy' has no attribute 'stats'",
     "output_type": "error",
     "traceback": [
      "\u001b[1;31m---------------------------------------------------------------------------\u001b[0m",
      "\u001b[1;31mAttributeError\u001b[0m                            Traceback (most recent call last)",
      "\u001b[1;32m<ipython-input-18-5e83b8ce4f9b>\u001b[0m in \u001b[0;36m<module>\u001b[1;34m\u001b[0m\n\u001b[0;32m      5\u001b[0m \u001b[0mmu\u001b[0m\u001b[1;33m=\u001b[0m \u001b[1;36m0\u001b[0m\u001b[1;33m\u001b[0m\u001b[1;33m\u001b[0m\u001b[0m\n\u001b[0;32m      6\u001b[0m \u001b[0msigma\u001b[0m \u001b[1;33m=\u001b[0m \u001b[1;36m2\u001b[0m            \u001b[1;31m# Change to w(1) = w(0)^2 (1 + (lambda/pi w_0)^2)\u001b[0m\u001b[1;33m\u001b[0m\u001b[1;33m\u001b[0m\u001b[0m\n\u001b[1;32m----> 7\u001b[1;33m X = scipy.stats.truncnorm(\n\u001b[0m\u001b[0;32m      8\u001b[0m     (-cutoff) / sigma, (cutoff) / sigma, loc=mu, scale=sigma)\n\u001b[0;32m      9\u001b[0m \u001b[1;33m\u001b[0m\u001b[0m\n",
      "\u001b[1;31mAttributeError\u001b[0m: module 'scipy' has no attribute 'stats'"
     ]
    }
   ],
   "source": [
    "np.random.seed(0);\n",
    "\n",
    "N = 10\n",
    "cutoff = 4.0         # To make sure it doest go passed lens\n",
    "mu= 0\n",
    "sigma = 2            # Change to w(1) = w(0)^2 (1 + (lambda/pi w_0)^2)\n",
    "X = scipy.stats.truncnorm(\n",
    "    (-cutoff) / sigma, (cutoff) / sigma, loc=mu, scale=sigma)\n",
    "\n",
    "sample= X.rvs(size=N)\n",
    "ray_directions = [Point(1, sample[i]) for i in range(N)]\n",
    "print(ray_directions)"
   ]
  },
  {
   "cell_type": "markdown",
   "metadata": {},
   "source": [
    "# Ray grid propagation"
   ]
  },
  {
   "cell_type": "code",
   "execution_count": 5,
   "metadata": {},
   "outputs": [],
   "source": [
    "from sympy.geometry import Polygon;\n",
    "box = Polygon(Point(10,10),Point(30,10),Point(30,-10),Point(10,-10));"
   ]
  },
  {
   "cell_type": "code",
   "execution_count": 6,
   "metadata": {},
   "outputs": [],
   "source": [
    "def ray_grid_propagation(enter, exit, N, c):\n",
    "    \"\"\"\n",
    "    Calculates contribution of a ray entering at enter and leaving at exit,\n",
    "    on an N x N grid.\n",
    "    enter and exit must be normalized to [0,1] x [0,1].\n",
    "    \"\"\"\n",
    "    steps = c*N;\n",
    "    A_sub = np.zeros((N,N));\n",
    "    for i in range(0, steps):\n",
    "        per = i/steps;\n",
    "        current = enter+per*(exit-enter);\n",
    "        x_ind = min(int(current[0]*N),N-1);\n",
    "        y_ind = min(int(current[1]*N),N-1);\n",
    "        A_sub[x_ind, y_ind] = A_sub[x_ind, y_ind]+1;\n",
    "\n",
    "    return A_sub/(c);"
   ]
  },
  {
   "cell_type": "code",
   "execution_count": null,
   "metadata": {},
   "outputs": [],
   "source": [
    "N = 101;\n",
    "A = np.zeros((N,N));\n",
    "box = Polygon(Point(10,10),Point(30,10),Point(30,-10),Point(10,-10));\n",
    "\n",
    "ray_count = 100;\n",
    "for i in range(0,ray_count):\n",
    "    y = np.random.normal(scale = 5.0);\n",
    "    current_ray_origin = Point(0,y);\n",
    "    current_ray_direction = Point(2,-0.1*y);\n",
    "    current_ray = Ray(current_ray_origin, current_ray_origin + current_ray_direction);\n",
    "\n",
    "    box_intersection = intersection(box,current_ray);\n",
    "    if(len(box_intersection) == 2):\n",
    "        begin = np.array([float(box_intersection[0].x),float(box_intersection[0].y)]);\n",
    "        end = np.array([float(box_intersection[1].x),float(box_intersection[1].y)]);\n",
    "        begin_transformed = (begin - [10,-10])/20.0;\n",
    "        end_transformed = (end - [10,-10])/20.0;\n",
    "        A_sub = ray_grid_propagation(begin_transformed, end_transformed, N, 2);\n",
    "        A = A + A_sub;\n",
    "\n",
    "A = A/ray_count;\n",
    "plt.matshow(A);\n",
    "plt.colorbar();"
   ]
  },
  {
   "cell_type": "code",
   "execution_count": null,
   "metadata": {},
   "outputs": [],
   "source": [
    "import ipywidgets as widgets;\n",
    "from IPython.display import display;\n",
    "\n",
    "w = widgets.IntSlider(min = 0, max = N-1, step=1, description=\"slice_z\");\n",
    "\n",
    "def proc(slice_z):\n",
    "    plt.plot(A[slice_z,:]);\n",
    "    \n",
    "out = widgets.interactive_output(proc, {'slice_z': w});\n",
    "\n",
    "display(w);\n",
    "display(out);"
   ]
  },
  {
   "cell_type": "code",
   "execution_count": null,
   "metadata": {},
   "outputs": [],
   "source": []
  }
 ],
 "metadata": {
  "kernelspec": {
   "display_name": "Python 3",
   "language": "python",
   "name": "python3"
  },
  "language_info": {
   "codemirror_mode": {
    "name": "ipython",
    "version": 3
   },
   "file_extension": ".py",
   "mimetype": "text/x-python",
   "name": "python",
   "nbconvert_exporter": "python",
   "pygments_lexer": "ipython3",
   "version": "3.7.3"
  }
 },
 "nbformat": 4,
 "nbformat_minor": 2
}
