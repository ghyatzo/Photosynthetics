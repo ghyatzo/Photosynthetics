{
 "cells": [
  {
   "cell_type": "code",
   "execution_count": 1,
   "metadata": {},
   "outputs": [],
   "source": [
    "import numpy as np;\n",
    "import matplotlib.pyplot as plt;\n",
    "import sympy;\n",
    "from sympy.geometry import Point, Ray, Circle, intersection, Line;"
   ]
  },
  {
   "cell_type": "code",
   "execution_count": 2,
   "metadata": {},
   "outputs": [],
   "source": [
    "'''\n",
    "Takes in intersection of incoming ray with the circle and gives back refracted ray\n",
    "ray = incoming ray\n",
    "intersection_origin = intersection incoming ray with circle\n",
    "intersection_direction = angle incoming ray\n",
    "n_in = refractive index incoming medium\n",
    "n_out = refractive index outcoming medium\n",
    "circ = circle\n",
    "'''\n",
    "\n",
    "def ray_dispenser(ray, n_in, n_out, circle):\n",
    "    \n",
    "    #intersection of ray and circle\n",
    "    inter = intersection(ray, circle)[0]\n",
    "    \n",
    "    #center of circle\n",
    "    mid = circle.center\n",
    "    \n",
    "    #inward normal of the intersection\n",
    "    normal = Line(inter, mid)\n",
    "    \n",
    "    #incoming angle\n",
    "    angle_in = ray.angle_between(normal)\n",
    "    \n",
    "    #outcoming angle\n",
    "    angle_out = np.arcsin(n_in*np.sin(float(angle_in))/n_out)\n",
    "    \n",
    "    #outcoming ray\n",
    "    ray_out = Ray(inter, angle=angle_out)\n",
    "    \n",
    "    return ray_out\n",
    "\n",
    "\n",
    "def ray_dispenser_2(ray, n_in, n_out, circle):\n",
    "     #intersection of ray and circle\n",
    "    inter = intersection(ray, circle)[1]\n",
    "    \n",
    "    #center of circle\n",
    "    mid = circle.center\n",
    "    \n",
    "    #inward normal of the intersection\n",
    "    normal = Line(inter, mid)\n",
    "    \n",
    "    #incoming angle\n",
    "    angle_in = ray.angle_between(normal)\n",
    "    \n",
    "    #outcoming angle\n",
    "    angle_out = np.arcsin(n_in*np.sin(float(angle_in))/n_out)\n",
    "    \n",
    "    #outcoming ray\n",
    "    ray_out = Ray(inter, angle=angle_out)\n",
    "    \n",
    "    return ray_out\n"
   ]
  }
 ],
 "metadata": {
  "kernelspec": {
   "display_name": "Python 3",
   "language": "python",
   "name": "python3"
  },
  "language_info": {
   "codemirror_mode": {
    "name": "ipython",
    "version": 3
   },
   "file_extension": ".py",
   "mimetype": "text/x-python",
   "name": "python",
   "nbconvert_exporter": "python",
   "pygments_lexer": "ipython3",
   "version": "3.7.3"
  }
 },
 "nbformat": 4,
 "nbformat_minor": 2
}
