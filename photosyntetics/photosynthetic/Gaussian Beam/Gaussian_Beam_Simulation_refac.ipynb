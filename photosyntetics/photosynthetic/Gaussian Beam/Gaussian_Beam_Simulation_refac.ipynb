{
 "cells": [
  {
   "cell_type": "code",
   "execution_count": 1,
   "metadata": {},
   "outputs": [],
   "source": [
    "# Imports\n",
    "import numpy as np;\n",
    "import matplotlib.pyplot as plt;\n",
    "import time;\n",
    "\n",
    "import geoutils as gu;"
   ]
  },
  {
   "cell_type": "code",
   "execution_count": 2,
   "metadata": {},
   "outputs": [],
   "source": [
    "def generate_ray(origin, var = 0.1):\n",
    "    y = np.random.normal(scale = var);\n",
    "    current_ray_direction = np.array([1,y]);\n",
    "    \n",
    "    return (origin, current_ray_direction);\n"
   ]
  },
  {
   "cell_type": "code",
   "execution_count": 3,
   "metadata": {},
   "outputs": [],
   "source": [
    " '''\n",
    "Function that refracts a ray through a lens. \n",
    "\n",
    "The 3-tuple for ray_in describes the incoming ray via the linear eqaution y = a_1*(x-x_1) + y_1\n",
    "\n",
    "The 3-tuples lens_l and lens_r describe respectively the left and right side of the lenses via the circles \n",
    "(x-x_i)**2 + (y-y_i)**2 = r_i**2, i in {l,r}.\n",
    "\n",
    "We assume that the ray propagates in the positive x-direction.\n",
    "'''\n",
    "def propagate_ray(ray, ld, lf): #ray, distance of lens, focal distance of lens\n",
    "    x0 = ray[0][0]\n",
    "    y0 = ray[0][1]\n",
    "    a0 = ray[1][1]\n",
    "    \n",
    "    d1 = x0-y0/a0\n",
    "    yd = a0*(ld-x0)+y0\n",
    "    \n",
    "    d2 = 1.0/(1.0/(ld-d1)-1.0/lf)\n",
    "    \n",
    "    x1 = ld\n",
    "    y1 = yd\n",
    "    a1 = -yd/(d2-ld)\n",
    "    \n",
    "    refracted_ray_origin = np.array([x1, y1])\n",
    "    refracted_ray_direction = np.array([1, -a1])\n",
    "    \n",
    "    return (refracted_ray_origin, refracted_ray_direction)"
   ]
  },
  {
   "cell_type": "code",
   "execution_count": 4,
   "metadata": {},
   "outputs": [],
   "source": [
    "box_min = np.array([40,-40]);\n",
    "box_max = np.array([120,40]);\n",
    "box_size = 80.0;\n",
    "\n",
    "def discretize_ray(ray):\n",
    "    box_intersection = gu.ray_box_intersection(ray[0],ray[1], box_min, box_max);\n",
    "    if(len(box_intersection) == 2):\n",
    "        begin = np.array([float(box_intersection[0][0]),float(box_intersection[0][1])]);\n",
    "        end = np.array([float(box_intersection[1][0]),float(box_intersection[1][1])]);\n",
    "        begin_transformed = (begin - box_min)/box_size;\n",
    "        end_transformed = (end - box_min)/box_size;\n",
    "        return gu.ray_grid_propagation(begin_transformed, end_transformed, N, 5);\n",
    "    return np.zeros((N,N));\n",
    "    \n"
   ]
  },
  {
   "cell_type": "code",
   "execution_count": 17,
   "metadata": {
    "scrolled": true
   },
   "outputs": [
    {
     "name": "stderr",
     "output_type": "stream",
     "text": [
      "C:\\ProgramData\\Anaconda3\\lib\\site-packages\\ipykernel_launcher.py:8: ComplexWarning: Casting complex values to real discards the imaginary part\n",
      "  \n",
      "C:\\ProgramData\\Anaconda3\\lib\\site-packages\\ipykernel_launcher.py:9: ComplexWarning: Casting complex values to real discards the imaginary part\n",
      "  if __name__ == '__main__':\n"
     ]
    },
    {
     "name": "stdout",
     "output_type": "stream",
     "text": [
      "32.20857238769531\n"
     ]
    },
    {
     "data": {
      "image/png": "[encoded data removed]",
      "text/plain": [
       "<Figure size 288x288 with 2 Axes>"
      ]
     },
     "metadata": {
      "needs_background": "light"
     },
     "output_type": "display_data"
    }
   ],
   "source": [
    "t0 = time.time();\n",
    "\n",
    "N = 100;\n",
    "A = np.zeros((N,N));\n",
    "\n",
    "ray_count = 10000;\n",
    "for i in range(0, ray_count):\n",
    "    current_ray = generate_ray(np.array([-5,-5]), var = 0.2);\n",
    "    current_ray = propagate_ray(current_ray, lens_l = [25, 0, 20], lens_r = [-10, 0 ,20], n_air = 1.0, n_lens = 1.65);\n",
    "    current_ray = propagate_ray(current_ray, lens_l = [55, 0, 20], lens_r = [20, 0 ,20], n_air = 1.0, n_lens = 1.65);\n",
    "    A_sub = discretize_ray(current_ray);\n",
    "    A = A + A_sub;\n",
    "\n",
    "A = A/ray_count;\n",
    "plt.matshow(A);\n",
    "plt.colorbar();\n",
    "\n",
    "t1 = time.time();\n",
    "\n",
    "total = t1-t0;\n",
    "print(total);"
   ]
  },
  {
   "cell_type": "code",
   "execution_count": 16,
   "metadata": {},
   "outputs": [
    {
     "data": {
      "image/png": "[encoded data removed]",
      "text/plain": [
       "<Figure size 288x288 with 2 Axes>"
      ]
     },
     "metadata": {
      "needs_background": "light"
     },
     "output_type": "display_data"
    }
   ],
   "source": [
    "plt.matshow(A, cmap = 'gnuplot');\n",
    "plt.colorbar();\n",
    "plt.savefig('off-axis_test.png', dpi = 1000);"
   ]
  },
  {
   "cell_type": "code",
   "execution_count": null,
   "metadata": {},
   "outputs": [],
   "source": []
  }
 ],
 "metadata": {
  "kernelspec": {
   "display_name": "Python 3",
   "language": "python",
   "name": "python3"
  },
  "language_info": {
   "codemirror_mode": {
    "name": "ipython",
    "version": 3
   },
   "file_extension": ".py",
   "mimetype": "text/x-python",
   "name": "python",
   "nbconvert_exporter": "python",
   "pygments_lexer": "ipython3",
   "version": "3.7.3"
  }
 },
 "nbformat": 4,
 "nbformat_minor": 2
}
